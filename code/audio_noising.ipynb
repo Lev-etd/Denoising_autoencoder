{
 "cells": [
  {
   "cell_type": "code",
   "execution_count": 1,
   "id": "54c4eb22-f5d5-45fd-8565-7c0d727130bb",
   "metadata": {
    "pycharm": {
     "name": "#%%\n"
    }
   },
   "outputs": [
    {
     "name": "stderr",
     "output_type": "stream",
     "text": [
      "/home/nitro/anaconda3/envs/audio_proj/lib/python3.10/site-packages/tqdm/auto.py:22: TqdmWarning: IProgress not found. Please update jupyter and ipywidgets. See https://ipywidgets.readthedocs.io/en/stable/user_install.html\n",
      "  from .autonotebook import tqdm as notebook_tqdm\n"
     ]
    }
   ],
   "source": [
    "import pathlib\n",
    "from pathlib import Path\n",
    "import os\n",
    "import shutil\n",
    "import sys\n",
    "\n",
    "import torch\n",
    "import librosa\n",
    "import numpy as np\n",
    "\n",
    "import random\n",
    "from time import sleep"
   ]
  },
  {
   "cell_type": "code",
   "execution_count": 2,
   "id": "2aeca1f4-b3dc-4a56-bd42-08c87d9ad9af",
   "metadata": {},
   "outputs": [],
   "source": [
    "nb_dir = os.path.split(os.getcwd())[0]\n",
    "if nb_dir not in sys.path:\n",
    "    sys.path.append(nb_dir)"
   ]
  },
  {
   "cell_type": "code",
   "execution_count": 3,
   "id": "3c582ed9-e81d-4fe3-a04a-6146271c88c0",
   "metadata": {},
   "outputs": [],
   "source": [
    "from src.utils import get_all_files, play_audio\n",
    "from src.noise_augs import GaussianNoise, AddConst, ZeroElements #трансформации аудио, обёрнутые в найтивную апишку аугментаций торча"
   ]
  },
  {
   "cell_type": "code",
   "execution_count": 4,
   "id": "2415c990-cea1-41f8-b078-5c2b7036832b",
   "metadata": {
    "pycharm": {
     "name": "#%%\n"
    }
   },
   "outputs": [],
   "source": [
    "train_data = get_all_files(\"/media/nitro/hdd/Test_task/splitted_data/clean_train\")\n",
    "val_data = get_all_files(\"/media/nitro/hdd/Test_task/splitted_data/clean_val\")\n",
    "test_data = get_all_files(\"/media/nitro/hdd/Test_task/splitted_data/clean_testset_wav\")"
   ]
  },
  {
   "cell_type": "markdown",
   "id": "91ce5944-5eed-46e6-82f0-690c989969df",
   "metadata": {
    "pycharm": {
     "name": "#%% md\n"
    }
   },
   "source": [
    "# Конвертация в Stft "
   ]
  },
  {
   "cell_type": "code",
   "execution_count": 11,
   "id": "b5ac22fd-7fbc-497d-9b4f-190df52527c8",
   "metadata": {
    "pycharm": {
     "name": "#%%\n"
    }
   },
   "outputs": [
    {
     "name": "stdout",
     "output_type": "stream",
     "text": [
      "3740\n"
     ]
    }
   ],
   "source": [
    "random_idx = random.randint(0,len(train_data))\n",
    "print(random_idx)\n",
    "waveform, sample_rate = librosa.load(train_data[random_idx]) # Возьмём случайный пример"
   ]
  },
  {
   "cell_type": "code",
   "execution_count": 12,
   "id": "ff8ec4c6-a9b7-4ca3-8527-a0b8eaa35f52",
   "metadata": {
    "pycharm": {
     "name": "#%%\n"
    }
   },
   "outputs": [],
   "source": [
    "stft_wave = librosa.stft(waveform, n_fft=2048) #конвертируем в stft"
   ]
  },
  {
   "cell_type": "code",
   "execution_count": null,
   "outputs": [],
   "source": [
    "composed = torch.nn.Sequential(GaussianNoise(stft_wave.shape),                                                              \n",
    "                               AddConst(constant=32, position=8), \n",
    "                              ZeroElements(zero_over_slice=(16,32)))"
   ],
   "metadata": {
    "collapsed": false,
    "pycharm": {
     "name": "#%%\n"
    }
   }
  },
  {
   "cell_type": "code",
   "execution_count": null,
   "outputs": [],
   "source": [
    "transformed_sample = composed(stft_wave) # применяем зашумление"
   ],
   "metadata": {
    "collapsed": false,
    "pycharm": {
     "name": "#%%\n"
    }
   }
  },
  {
   "cell_type": "code",
   "execution_count": null,
   "outputs": [],
   "source": [
    "inverse_stft = librosa.istft(transformed_sample, n_fft=2048) # возвращаем в обычный вид из stft"
   ],
   "metadata": {
    "collapsed": false,
    "pycharm": {
     "name": "#%%\n"
    }
   }
  },
  {
   "cell_type": "code",
   "execution_count": null,
   "outputs": [],
   "source": [
    "print(\"Звук до зашумления\")\n",
    "play_audio(waveform, sample_rate)\n",
    "\n",
    "sleep(0.3)\n",
    "\n",
    "print(\"Звук после зашумления\")\n",
    "play_audio(inverse_stft, sample_rate) "
   ],
   "metadata": {
    "collapsed": false,
    "pycharm": {
     "name": "#%%\n"
    }
   }
  },
  {
   "cell_type": "markdown",
   "source": [
    "### Для того, чтобы понять какое оптимальное значение нужно выбрать для паддинга посторим гистограмму"
   ],
   "metadata": {
    "collapsed": false,
    "pycharm": {
     "name": "#%% md\n"
    }
   }
  },
  {
   "cell_type": "code",
   "execution_count": null,
   "outputs": [],
   "source": [
    "from tqdm import tqdm\n",
    "length = []\n",
    "for file in tqdm(range(len(train_data))):\n",
    "    waveform, sample_rate = librosa.load(train_data[file])\n",
    "    y_8k = librosa.resample(waveform, orig_sr=sample_rate, target_sr=16000)\n",
    "    length.append(y_8k.shape)"
   ],
   "metadata": {
    "collapsed": false,
    "pycharm": {
     "name": "#%%\n"
    }
   }
  },
  {
   "cell_type": "code",
   "execution_count": null,
   "outputs": [],
   "source": [
    "np.histogram(length)"
   ],
   "metadata": {
    "collapsed": false,
    "pycharm": {
     "name": "#%%\n"
    }
   }
  },
  {
   "cell_type": "code",
   "execution_count": null,
   "outputs": [],
   "source": [
    "import seaborn as sns\n",
    "\n",
    "sns.set_style('darkgrid')\n",
    "sns.distplot(length)"
   ],
   "metadata": {
    "collapsed": false,
    "pycharm": {
     "name": "#%%\n"
    }
   }
  },
  {
   "cell_type": "markdown",
   "source": [
    "По гистограмме видно, что оптимальное значение приблизительно -- 65000. Паддинг использован, чтобы не потерять много информации и не забивать ноликами массив до наибольшего размера в датасете, что привело бы к неоптимальному использованию места"
   ],
   "metadata": {
    "collapsed": false,
    "pycharm": {
     "name": "#%% md\n"
    }
   }
  },
  {
   "cell_type": "code",
   "execution_count": null,
   "outputs": [],
   "source": [],
   "metadata": {
    "collapsed": false,
    "pycharm": {
     "name": "#%%\n"
    }
   }
  },
  {
   "cell_type": "code",
   "execution_count": null,
   "id": "7174fbc8-40a7-46e7-971a-c9aeeaf3f4b0",
   "metadata": {},
   "outputs": [],
   "source": []
  }
 ],
 "metadata": {
  "kernelspec": {
   "display_name": "Python 3 (ipykernel)",
   "language": "python",
   "name": "python3"
  },
  "language_info": {
   "codemirror_mode": {
    "name": "ipython",
    "version": 3
   },
   "file_extension": ".py",
   "mimetype": "text/x-python",
   "name": "python",
   "nbconvert_exporter": "python",
   "pygments_lexer": "ipython3",
   "version": "3.10.4"
  }
 },
 "nbformat": 4,
 "nbformat_minor": 5
}