{
 "cells": [
  {
   "cell_type": "code",
   "execution_count": 3,
   "id": "76b43bc3-acd3-4f50-810e-3d6b6cca7930",
   "metadata": {},
   "outputs": [],
   "source": [
    "import os\n",
    "import pathlib\n",
    "from pathlib import Path\n",
    "import shutil\n",
    "import sys"
   ]
  },
  {
   "cell_type": "code",
   "execution_count": 4,
   "id": "a2dcd263-075d-4cca-a1d2-639989eebedb",
   "metadata": {},
   "outputs": [],
   "source": [
    "nb_dir = os.path.split(os.getcwd())[0]\n",
    "if nb_dir not in sys.path:\n",
    "    sys.path.append(nb_dir)"
   ]
  },
  {
   "cell_type": "code",
   "execution_count": 6,
   "id": "9add0d66-cf9c-4e51-8961-10263935587b",
   "metadata": {},
   "outputs": [],
   "source": [
    "from src.utils import get_all_files"
   ]
  },
  {
   "cell_type": "code",
   "execution_count": 13,
   "id": "d00cefc9-ff78-42da-82e1-fa3b5d66f6aa",
   "metadata": {},
   "outputs": [],
   "source": [
    "train_files = get_all_files(\"../Data/DS_10283_2791/clean_trainset_28spk_wav\")"
   ]
  },
  {
   "cell_type": "code",
   "execution_count": 15,
   "id": "b008115d-8df5-4819-a377-c2cb538dc169",
   "metadata": {},
   "outputs": [],
   "source": [
    "test_files = get_all_files(\"../splitted_data/clean_testset_wav\")"
   ]
  },
  {
   "cell_type": "code",
   "execution_count": 16,
   "id": "5096072e-3417-43f9-880d-69d7245ccb4f",
   "metadata": {},
   "outputs": [
    {
     "name": "stdout",
     "output_type": "stream",
     "text": [
      "824\n",
      "11572\n"
     ]
    }
   ],
   "source": [
    "print(len(test_files))\n",
    "print(len(train_files))"
   ]
  },
  {
   "cell_type": "code",
   "execution_count": 96,
   "id": "3e12a27b-4cec-4660-a1bf-10255a9a6126",
   "metadata": {},
   "outputs": [],
   "source": [
    "train_and_val = sorted(train_files)[:4964] # will split it like this, otherwise will have leak "
   ]
  },
  {
   "cell_type": "code",
   "execution_count": 17,
   "id": "f1bc3f52-703d-4434-98a9-99d1f9cb39fd",
   "metadata": {},
   "outputs": [],
   "source": [
    "# скопируем данные в другую папку\n",
    "# for file_to_copy in train_and_val:\n",
    "#     shutil.copy(file_to_copy, \"../Data/DS_10283_2791/clean_train_and_val\")"
   ]
  },
  {
   "cell_type": "code",
   "execution_count": 127,
   "id": "a4a8cbfb-4ac2-4fbc-8b35-9ef394767e07",
   "metadata": {},
   "outputs": [
    {
     "data": {
      "text/plain": [
       "4964"
      ]
     },
     "execution_count": 127,
     "metadata": {},
     "output_type": "execute_result"
    }
   ],
   "source": [
    "len(get_all_files(\"../Data/DS_10283_2791/clean_train_and_val\"))"
   ]
  },
  {
   "cell_type": "code",
   "execution_count": 126,
   "id": "c7959b11-547f-48bf-9b06-d496ae1dcbb8",
   "metadata": {},
   "outputs": [],
   "source": [
    "val_files = sorted(get_all_files(\"Data/DS_10283_2791/clean_train_and_val\"))[:742]"
   ]
  },
  {
   "cell_type": "code",
   "execution_count": 128,
   "id": "c6210772-044d-4fe6-b3c4-e0dcb3688783",
   "metadata": {},
   "outputs": [],
   "source": [
    "for file_to_copy in val_files:\n",
    "    shutil.move(file_to_copy, \"Data/DS_10283_2791/clean_val\")"
   ]
  },
  {
   "cell_type": "code",
   "execution_count": 129,
   "id": "0036ef29-f121-49da-a3ea-0f79d9cc6427",
   "metadata": {},
   "outputs": [
    {
     "data": {
      "text/plain": [
       "4222"
      ]
     },
     "execution_count": 129,
     "metadata": {},
     "output_type": "execute_result"
    }
   ],
   "source": [
    "len(get_all_files(\"Data/DS_10283_2791/clean_train_and_val\"))"
   ]
  },
  {
   "cell_type": "code",
   "execution_count": null,
   "id": "c7ddddce-446e-43b2-9954-a313a44d6809",
   "metadata": {},
   "outputs": [],
   "source": []
  }
 ],
 "metadata": {
  "kernelspec": {
   "display_name": "Python 3 (ipykernel)",
   "language": "python",
   "name": "python3"
  },
  "language_info": {
   "codemirror_mode": {
    "name": "ipython",
    "version": 3
   },
   "file_extension": ".py",
   "mimetype": "text/x-python",
   "name": "python",
   "nbconvert_exporter": "python",
   "pygments_lexer": "ipython3",
   "version": "3.10.4"
  }
 },
 "nbformat": 4,
 "nbformat_minor": 5
}
